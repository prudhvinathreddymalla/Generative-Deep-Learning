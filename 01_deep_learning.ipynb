{
  "nbformat": 4,
  "nbformat_minor": 0,
  "metadata": {
    "colab": {
      "name": "01_deep learning.ipynb",
      "provenance": [],
      "collapsed_sections": [],
      "authorship_tag": "ABX9TyM6TtqPni145USIpgfkUtE8",
      "include_colab_link": true
    },
    "kernelspec": {
      "name": "python3",
      "display_name": "Python 3"
    },
    "language_info": {
      "name": "python"
    }
  },
  "cells": [
    {
      "cell_type": "markdown",
      "metadata": {
        "id": "view-in-github",
        "colab_type": "text"
      },
      "source": [
        "<a href=\"https://colab.research.google.com/github/prudhvinathreddymalla/Generative-Deep-Learning/blob/main/01_deep_learning.ipynb\" target=\"_parent\"><img src=\"https://colab.research.google.com/assets/colab-badge.svg\" alt=\"Open In Colab\"/></a>"
      ]
    },
    {
      "cell_type": "code",
      "metadata": {
        "id": "TXJWHV7P6Khw"
      },
      "source": [
        "import numpy as np\n",
        "from tensorflow.keras.utils import to_categorical\n",
        "from keras.datasets import cifar10"
      ],
      "execution_count": 4,
      "outputs": []
    },
    {
      "cell_type": "code",
      "metadata": {
        "id": "iwaMp3l37DRH"
      },
      "source": [
        "# loads the cifar10 dataset.\n",
        "\n",
        "(x_train, y_train), (x_test, y_test) = cifar10.load_data()"
      ],
      "execution_count": 6,
      "outputs": []
    },
    {
      "cell_type": "code",
      "metadata": {
        "colab": {
          "base_uri": "https://localhost:8080/"
        },
        "id": "Rp8qFlHT9O64",
        "outputId": "7849defa-cdfe-4372-80f3-7a4214c0f798"
      },
      "source": [
        "print(x_train.shape)\n",
        "print(x_test.shape)\n",
        "print(y_train.shape)\n",
        "print(y_test.shape)"
      ],
      "execution_count": 15,
      "outputs": [
        {
          "output_type": "stream",
          "name": "stdout",
          "text": [
            "(50000, 32, 32, 3)\n",
            "(10000, 32, 32, 3)\n",
            "(50000, 1)\n",
            "(10000, 1)\n"
          ]
        }
      ]
    },
    {
      "cell_type": "markdown",
      "metadata": {
        "id": "GnoxHjhu9Pic"
      },
      "source": [
        "x_train is of shape (50000, 32, 32, 3) and x_test is with shape (10000, 32, 32, 3). y_train and y_test are with shape (50000, 1) and (10000, 1) respectively with integer labels in the range 0 to 9 for class of each image. "
      ]
    },
    {
      "cell_type": "code",
      "metadata": {
        "id": "Yu8PlRDn8DES"
      },
      "source": [
        "num_classes = 10"
      ],
      "execution_count": 10,
      "outputs": []
    },
    {
      "cell_type": "markdown",
      "metadata": {
        "id": "YgV52_f697XB"
      },
      "source": [
        "By default, the image data consists of integers between 0 to 255 for each pixel channel. Neural Networks work best each input is inside the range -1 to 1. So we divide by 255."
      ]
    },
    {
      "cell_type": "code",
      "metadata": {
        "id": "-FJhsyTa8OPY"
      },
      "source": [
        "x_train = x_train.astype('float32') /255.0\n",
        "x_test = x_test.astype('float32')/255.0"
      ],
      "execution_count": 16,
      "outputs": []
    },
    {
      "cell_type": "markdown",
      "metadata": {
        "id": "TGQoEImB-VD9"
      },
      "source": [
        "We also need to change the integer labeling of the images to one hot encoded vectors. The new shape of y_train and y_test is (50k, 10) and (10k, 10) after one hot encoding. "
      ]
    },
    {
      "cell_type": "code",
      "metadata": {
        "id": "-Uei5oF28iZT"
      },
      "source": [
        "y_train = to_categorical(y_train, num_classes)\n",
        "y_test = to_categorical(y_test, num_classes)"
      ],
      "execution_count": 17,
      "outputs": []
    },
    {
      "cell_type": "code",
      "metadata": {
        "colab": {
          "base_uri": "https://localhost:8080/"
        },
        "id": "mfxP0pJ78y0h",
        "outputId": "afd4cd35-6e91-4f34-b9a6-85764bce1ad8"
      },
      "source": [
        "print('new shape of y_train:', y_train.shape)\n",
        "print('new shape of y_test:', y_test.shape)"
      ],
      "execution_count": 19,
      "outputs": [
        {
          "output_type": "stream",
          "name": "stdout",
          "text": [
            "new shape of y_train: (50000, 10)\n",
            "new shape of y_test: (10000, 10)\n"
          ]
        }
      ]
    },
    {
      "cell_type": "markdown",
      "metadata": {
        "id": "Oj-rAKwd-86a"
      },
      "source": [
        "From the shape of image data in x_train; [50000, 32, 32, 3].\n",
        "From this, \n",
        "- the 50000 represents the index of the image in the dataset. \n",
        "- 32, 32 represents the size of the image.\n",
        "- 3, the last one, is the channel (i.e, red, green, blue). \n",
        "There are no columns or images in this dataset. Instead it is tensor with four dimensions. \n"
      ]
    },
    {
      "cell_type": "code",
      "metadata": {
        "colab": {
          "base_uri": "https://localhost:8080/"
        },
        "id": "0Erp5Wxc-4l7",
        "outputId": "6cddd3d1-e75d-424f-ff1d-759690f0c6f4"
      },
      "source": [
        "x_train[35, 12, 13, 1]"
      ],
      "execution_count": 20,
      "outputs": [
        {
          "output_type": "execute_result",
          "data": {
            "text/plain": [
              "0.00092272204"
            ]
          },
          "metadata": {},
          "execution_count": 20
        }
      ]
    },
    {
      "cell_type": "markdown",
      "metadata": {
        "id": "7sPV2XypAd_A"
      },
      "source": [
        "Building the model: We use Functional API as it gives more flexibility in designing deep neural networks. "
      ]
    },
    {
      "cell_type": "code",
      "metadata": {
        "id": "D8qmisviFovt"
      },
      "source": [
        "from keras.layers import Input, Flatten, Dense\n",
        "from keras.models import Model"
      ],
      "execution_count": 24,
      "outputs": []
    },
    {
      "cell_type": "code",
      "metadata": {
        "id": "zYT7z4KnFotf"
      },
      "source": [
        "input_layer = Input(shape=(32, 32, 3))\n",
        "\n",
        "x = Flatten()(input_layer)\n",
        "x = Dense(units = 200, activation = 'relu')(x)\n",
        "x = Dense(units = 150, activation = 'relu')(x)"
      ],
      "execution_count": 26,
      "outputs": []
    },
    {
      "cell_type": "code",
      "metadata": {
        "id": "f07fu_xaAZFn"
      },
      "source": [
        "output_layer = Dense(units = 10, activation = 'softmax')(x)"
      ],
      "execution_count": 27,
      "outputs": []
    },
    {
      "cell_type": "code",
      "metadata": {
        "id": "sH2Fj8woJGMr"
      },
      "source": [
        "model = Model(input_layer, output_layer)"
      ],
      "execution_count": 28,
      "outputs": []
    },
    {
      "cell_type": "code",
      "metadata": {
        "colab": {
          "base_uri": "https://localhost:8080/"
        },
        "id": "tki6dsNsJK0s",
        "outputId": "64dfd6cb-e8ed-402d-fde4-5e98c513c561"
      },
      "source": [
        "model.summary()"
      ],
      "execution_count": 32,
      "outputs": [
        {
          "output_type": "stream",
          "name": "stdout",
          "text": [
            "Model: \"model\"\n",
            "_________________________________________________________________\n",
            "Layer (type)                 Output Shape              Param #   \n",
            "=================================================================\n",
            "input_2 (InputLayer)         [(None, 32, 32, 3)]       0         \n",
            "_________________________________________________________________\n",
            "flatten_1 (Flatten)          (None, 3072)              0         \n",
            "_________________________________________________________________\n",
            "dense (Dense)                (None, 200)               614600    \n",
            "_________________________________________________________________\n",
            "dense_1 (Dense)              (None, 150)               30150     \n",
            "_________________________________________________________________\n",
            "dense_2 (Dense)              (None, 10)                1510      \n",
            "=================================================================\n",
            "Total params: 646,260\n",
            "Trainable params: 646,260\n",
            "Non-trainable params: 0\n",
            "_________________________________________________________________\n"
          ]
        }
      ]
    },
    {
      "cell_type": "markdown",
      "metadata": {
        "id": "3-oKTjrnKIEl"
      },
      "source": [
        "In the above summary, it is shown as 'none' because, the number of observations that will be passed into network is still unknown. "
      ]
    },
    {
      "cell_type": "markdown",
      "metadata": {
        "id": "bJl8VH4aKkYJ"
      },
      "source": [
        "Compiling the model. "
      ]
    },
    {
      "cell_type": "code",
      "metadata": {
        "id": "BQzkL-VZJMJt"
      },
      "source": [
        "from tensorflow.keras.optimizers import Adam"
      ],
      "execution_count": 34,
      "outputs": []
    },
    {
      "cell_type": "code",
      "metadata": {
        "colab": {
          "base_uri": "https://localhost:8080/"
        },
        "id": "ajDRERq-Ksac",
        "outputId": "a4d1f857-73b0-4f51-ab60-fade25c0ee48"
      },
      "source": [
        "opt = Adam(lr = 1e-3)\n",
        "model.compile(loss = 'categorical_crossentropy', optimizer = opt, metrics = ['accuracy'])"
      ],
      "execution_count": 39,
      "outputs": [
        {
          "output_type": "stream",
          "name": "stderr",
          "text": [
            "/usr/local/lib/python3.7/dist-packages/keras/optimizer_v2/optimizer_v2.py:356: UserWarning: The `lr` argument is deprecated, use `learning_rate` instead.\n",
            "  \"The `lr` argument is deprecated, use `learning_rate` instead.\")\n"
          ]
        }
      ]
    },
    {
      "cell_type": "markdown",
      "metadata": {
        "id": "hXIYB-KQO-1z"
      },
      "source": [
        "Training the model\n",
        "\n",
        "\n",
        "batch_size determines how many observations will be passed to the network at each training step. \n",
        "epochs determine how many times the network will be shown the full training data.\n",
        "shuffle = True, the batches will be drawn randomly without replacement from the trainig data at each training step. "
      ]
    },
    {
      "cell_type": "code",
      "metadata": {
        "colab": {
          "base_uri": "https://localhost:8080/"
        },
        "id": "4vEYFH6jLEWX",
        "outputId": "d1fbc16c-4fc0-4a2d-fd26-2fcbe2549e07"
      },
      "source": [
        "model_history = model.fit(x_train, y_train, batch_size=32, epochs = 10, validation_split = 0.2, shuffle = True)"
      ],
      "execution_count": 41,
      "outputs": [
        {
          "output_type": "stream",
          "name": "stdout",
          "text": [
            "Epoch 1/10\n",
            "1250/1250 [==============================] - 9s 7ms/step - loss: 1.1765 - accuracy: 0.5806 - val_loss: 1.2980 - val_accuracy: 0.5407\n",
            "Epoch 2/10\n",
            "1250/1250 [==============================] - 8s 6ms/step - loss: 1.1616 - accuracy: 0.5867 - val_loss: 1.3443 - val_accuracy: 0.5311\n",
            "Epoch 3/10\n",
            "1250/1250 [==============================] - 8s 6ms/step - loss: 1.1487 - accuracy: 0.5894 - val_loss: 1.3804 - val_accuracy: 0.5204\n",
            "Epoch 4/10\n",
            "1250/1250 [==============================] - 8s 6ms/step - loss: 1.1337 - accuracy: 0.5957 - val_loss: 1.3240 - val_accuracy: 0.5329\n",
            "Epoch 5/10\n",
            "1250/1250 [==============================] - 8s 6ms/step - loss: 1.1195 - accuracy: 0.6012 - val_loss: 1.2842 - val_accuracy: 0.5494\n",
            "Epoch 6/10\n",
            "1250/1250 [==============================] - 8s 6ms/step - loss: 1.1058 - accuracy: 0.6058 - val_loss: 1.3425 - val_accuracy: 0.5316\n",
            "Epoch 7/10\n",
            "1250/1250 [==============================] - 11s 9ms/step - loss: 1.0972 - accuracy: 0.6070 - val_loss: 1.2975 - val_accuracy: 0.5465\n",
            "Epoch 8/10\n",
            "1250/1250 [==============================] - 12s 10ms/step - loss: 1.0809 - accuracy: 0.6123 - val_loss: 1.3128 - val_accuracy: 0.5419\n",
            "Epoch 9/10\n",
            "1250/1250 [==============================] - 11s 9ms/step - loss: 1.0709 - accuracy: 0.6191 - val_loss: 1.2886 - val_accuracy: 0.5496\n",
            "Epoch 10/10\n",
            "1250/1250 [==============================] - 9s 7ms/step - loss: 1.0560 - accuracy: 0.6235 - val_loss: 1.3825 - val_accuracy: 0.5295\n"
          ]
        }
      ]
    },
    {
      "cell_type": "markdown",
      "metadata": {
        "id": "O3n_YPTtSWbT"
      },
      "source": [
        "Evaluate the model"
      ]
    },
    {
      "cell_type": "code",
      "metadata": {
        "colab": {
          "base_uri": "https://localhost:8080/"
        },
        "id": "FkjCb-tlSVL1",
        "outputId": "2bed47c6-21d3-4ac6-a5f6-6be1e6ca2e65"
      },
      "source": [
        "model.evaluate(x_test, y_test)"
      ],
      "execution_count": 46,
      "outputs": [
        {
          "output_type": "stream",
          "name": "stdout",
          "text": [
            "313/313 [==============================] - 1s 4ms/step - loss: 1.4101 - accuracy: 0.5174\n"
          ]
        },
        {
          "output_type": "execute_result",
          "data": {
            "text/plain": [
              "[1.4100940227508545, 0.5174000263214111]"
            ]
          },
          "metadata": {},
          "execution_count": 46
        }
      ]
    },
    {
      "cell_type": "markdown",
      "metadata": {
        "id": "SKULuJufSm8h"
      },
      "source": [
        "Predictions using Predict method"
      ]
    },
    {
      "cell_type": "code",
      "metadata": {
        "colab": {
          "base_uri": "https://localhost:8080/"
        },
        "id": "0_ZPDxX_SmpT",
        "outputId": "51b8b60a-c4a2-476f-92e0-5ae10d9bc290"
      },
      "source": [
        "Classes = np.array(['airplane', 'automobile', 'bird', 'cat', 'deer', 'dog', 'frog', 'horse', 'ship', 'truck'])\n",
        "Classes"
      ],
      "execution_count": 49,
      "outputs": [
        {
          "output_type": "execute_result",
          "data": {
            "text/plain": [
              "array(['airplane', 'automobile', 'bird', 'cat', 'deer', 'dog', 'frog',\n",
              "       'horse', 'ship', 'truck'], dtype='<U10')"
            ]
          },
          "metadata": {},
          "execution_count": 49
        }
      ]
    },
    {
      "cell_type": "code",
      "metadata": {
        "id": "InYZubJ0TCg7"
      },
      "source": [
        "preds = model.predict(x_test) # this returns an array of shape [10000, 10] i.e. a vector of 10 class probabilities for each observation\n",
        "preds_single = Classes[np.argmax(preds, axis = -1)] # we convert this array of probabilities back into a single prediction using argmax function. axis = -1 tells the function to collapse the array over the last dimension, so that the shape of preds_single is [10000, 1]\n",
        "actual_single = Classes[np.argmax(y_test, axis = -1)]"
      ],
      "execution_count": 58,
      "outputs": []
    },
    {
      "cell_type": "code",
      "metadata": {
        "colab": {
          "base_uri": "https://localhost:8080/",
          "height": 283
        },
        "id": "kkko1NxYWhSh",
        "outputId": "108cdd21-f2f8-4239-bb2d-1b4d22ffbd1d"
      },
      "source": [
        "plt.imshow(x_test[1])"
      ],
      "execution_count": 67,
      "outputs": [
        {
          "output_type": "execute_result",
          "data": {
            "text/plain": [
              "<matplotlib.image.AxesImage at 0x7f6fccf92a50>"
            ]
          },
          "metadata": {},
          "execution_count": 67
        },
        {
          "output_type": "display_data",
          "data": {
            "image/png": "[encoded data removed]",
            "text/plain": [
              "<Figure size 432x288 with 1 Axes>"
            ]
          },
          "metadata": {
            "needs_background": "light"
          }
        }
      ]
    },
    {
      "cell_type": "markdown",
      "metadata": {
        "id": "uy4drLLqU1GH"
      },
      "source": [
        "plotting the exact images to check the prediction"
      ]
    },
    {
      "cell_type": "code",
      "metadata": {
        "colab": {
          "base_uri": "https://localhost:8080/",
          "height": 116
        },
        "id": "uvnTEa1rTCbV",
        "outputId": "614ab8e1-6c2b-4bd9-ba5d-ad5869b677e4"
      },
      "source": [
        "n_to_show = 10\n",
        "indicies = np.random.choice(range(len(x_test)), n_to_show)\n",
        "\n",
        "fig = plt.figure(figsize = (15, 3))\n",
        "fig.subplots_adjust(hspace=0.4, wspace=0.4)\n",
        "\n",
        "for i, idx in enumerate(indicies):\n",
        "  img = x_test[idx]\n",
        "  ax = fig.add_subplot(1, n_to_show, i+1)\n",
        "  ax.axis('off')\n",
        "  ax.text(0.5, -0.35, 'pred =' + str(preds_single[idx]), fontsize= 10, ha='center', transform =ax.transAxes)\n",
        "  ax.text(0.5, 0.7, 'act = ' + str(actual_single[idx]), fontsize = 10, ha = 'center', transform = ax.transAxes)\n",
        "  ax.imshow(img)"
      ],
      "execution_count": 59,
      "outputs": [
        {
          "output_type": "display_data",
          "data": {
            "image/png": "[encoded data removed]",
            "text/plain": [
              "<Figure size 1080x216 with 10 Axes>"
            ]
          },
          "metadata": {
            "needs_background": "light"
          }
        }
      ]
    },
    {
      "cell_type": "code",
      "metadata": {
        "id": "AS_VFqMSTCR7"
      },
      "source": [
        ""
      ],
      "execution_count": null,
      "outputs": []
    },
    {
      "cell_type": "code",
      "metadata": {
        "colab": {
          "base_uri": "https://localhost:8080/",
          "height": 295
        },
        "id": "ame0cqGDPuxJ",
        "outputId": "51c8ebcc-9e6a-4fbe-8698-95dab49698b6"
      },
      "source": [
        "import matplotlib.pyplot as plt\n",
        "\n",
        "plt.plot(model_history.history['accuracy'])\n",
        "plt.plot(model_history.history['val_accuracy'])\n",
        "plt.title('model_accuracy')\n",
        "plt.ylabel('accuracy')\n",
        "plt.xlabel('epochs')\n",
        "plt.legend(['train', 'val'], loc = 'best')\n",
        "plt.show()"
      ],
      "execution_count": 44,
      "outputs": [
        {
          "output_type": "display_data",
          "data": {
            "image/png": "[encoded data removed]",
            "text/plain": [
              "<Figure size 432x288 with 1 Axes>"
            ]
          },
          "metadata": {
            "needs_background": "light"
          }
        }
      ]
    },
    {
      "cell_type": "code",
      "metadata": {
        "colab": {
          "base_uri": "https://localhost:8080/",
          "height": 295
        },
        "id": "QYTQ1s_YRuU1",
        "outputId": "f4d3bc43-0b52-43ba-9930-fde86967b4de"
      },
      "source": [
        "#plotting losses\n",
        "plt.plot(model_history.history['loss'])\n",
        "plt.plot(model_history.history['val_loss'])\n",
        "plt.title('model loss')\n",
        "plt.ylabel('Loss')\n",
        "plt.xlabel('epochs')\n",
        "plt.legend(['train', 'val'], loc = 'best')\n",
        "plt.show()"
      ],
      "execution_count": 45,
      "outputs": [
        {
          "output_type": "display_data",
          "data": {
            "image/png": "[encoded data removed]",
            "text/plain": [
              "<Figure size 432x288 with 1 Axes>"
            ]
          },
          "metadata": {
            "needs_background": "light"
          }
        }
      ]
    },
    {
      "cell_type": "code",
      "metadata": {
        "id": "Z-yj9KpXSCZ4"
      },
      "source": [
        ""
      ],
      "execution_count": null,
      "outputs": []
    },
    {
      "cell_type": "code",
      "metadata": {
        "id": "02p4ubRnSCXR"
      },
      "source": [
        ""
      ],
      "execution_count": null,
      "outputs": []
    },
    {
      "cell_type": "code",
      "metadata": {
        "id": "rNOxKXuHSCJr"
      },
      "source": [
        ""
      ],
      "execution_count": null,
      "outputs": []
    }
  ]
}